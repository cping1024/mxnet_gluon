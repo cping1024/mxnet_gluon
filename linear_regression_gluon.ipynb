{
 "cells": [
  {
   "cell_type": "code",
   "execution_count": 4,
   "metadata": {
    "ExecuteTime": {
     "end_time": "2018-03-27T06:46:40.287365Z",
     "start_time": "2018-03-27T06:46:40.280103Z"
    }
   },
   "outputs": [],
   "source": [
    "# using gluon implement linear regression\n",
    "from mxnet import ndarray as nd \n",
    "from mxnet import autograd \n",
    "from mxnet import gluon\n",
    "\n",
    "num_inputs = 2\n",
    "num_examples = 1000\n",
    "\n",
    "true_w = [2, -3.4]\n",
    "true_b = 4.2\n",
    "\n",
    "X = nd.random_normal(shape = (num_examples, num_inputs))\n",
    "y = true_w[0] * X[:, 0] + true_w[1] * X[:, 1] + true_b\n",
    "y += 0.01 * nd.random_normal(shape = y.shape)"
   ]
  },
  {
   "cell_type": "code",
   "execution_count": 6,
   "metadata": {
    "ExecuteTime": {
     "end_time": "2018-03-27T06:48:12.756947Z",
     "start_time": "2018-03-27T06:48:12.752344Z"
    }
   },
   "outputs": [],
   "source": [
    "# using data module read data\n",
    "batch_size = 10\n",
    "dataset = gluon.data.ArrayDataset(X, y)\n",
    "data_iter = gluon.data.DataLoader(dataset, batch_size, shuffle=True)"
   ]
  },
  {
   "cell_type": "code",
   "execution_count": 8,
   "metadata": {
    "ExecuteTime": {
     "end_time": "2018-03-27T06:48:56.454688Z",
     "start_time": "2018-03-27T06:48:56.448946Z"
    }
   },
   "outputs": [
    {
     "name": "stdout",
     "output_type": "stream",
     "text": [
      "(\n",
      "[[ 0.09860835 -1.0900215 ]\n",
      " [-0.45296028 -0.4760564 ]\n",
      " [-1.9288555  -0.595052  ]\n",
      " [ 0.6891703  -0.6373972 ]\n",
      " [-0.40567863 -1.885987  ]\n",
      " [-1.8695625  -0.19750941]\n",
      " [ 0.5251137  -0.0205132 ]\n",
      " [-1.8436856  -0.6943339 ]\n",
      " [ 0.3424698   1.7495646 ]\n",
      " [ 0.18095177 -0.03418146]]\n",
      "<NDArray 10x2 @cpu(0)>, \n",
      "[ 8.094033   4.9076443  2.3733275  7.7307     9.8118925  1.1211941\n",
      "  5.3237405  2.8696003 -1.077907   4.6676507]\n",
      "<NDArray 10 @cpu(0)>)\n"
     ]
    }
   ],
   "source": [
    "for data, label in data_iter:\n",
    "    #print(data, label)\n",
    "    break"
   ]
  },
  {
   "cell_type": "code",
   "execution_count": 22,
   "metadata": {
    "ExecuteTime": {
     "end_time": "2018-03-27T07:25:20.822777Z",
     "start_time": "2018-03-27T07:25:20.816785Z"
    }
   },
   "outputs": [],
   "source": [
    "#define model network\n",
    "net = gluon.nn.Sequential()\n",
    "net.add(gluon.nn.Dense(1))\n",
    "net.initialize()\n",
    "square_loss = gluon.loss.L2Loss()\n",
    "trainer = gluon.Trainer(net.collect_params(), 'sgd', {'learning_rate' : 0.1})"
   ]
  },
  {
   "cell_type": "code",
   "execution_count": 30,
   "metadata": {
    "ExecuteTime": {
     "end_time": "2018-03-27T07:30:06.854907Z",
     "start_time": "2018-03-27T07:30:06.134624Z"
    }
   },
   "outputs": [
    {
     "name": "stdout",
     "output_type": "stream",
     "text": [
      "Epoch 0, average loss: 7.889657\n",
      "Epoch 1, average loss: 7.890998\n",
      "Epoch 2, average loss: 7.877483\n",
      "Epoch 3, average loss: 7.897862\n",
      "Epoch 4, average loss: 7.895202\n",
      "Epoch 5, average loss: 7.836776\n",
      "Epoch 6, average loss: 7.861990\n",
      "Epoch 7, average loss: 7.836358\n",
      "Epoch 8, average loss: 7.903049\n",
      "Epoch 9, average loss: 7.803484\n"
     ]
    }
   ],
   "source": [
    "# training model \n",
    "epochs = 10\n",
    "batch_size = 10\n",
    "for e in range(epochs):\n",
    "    total_loss = 0\n",
    "    for dara, label in data_iter:\n",
    "        with autograd.record():\n",
    "            output = net(data)\n",
    "            loss = square_loss(output, label)\n",
    "        loss.backward()\n",
    "        trainer.step(batch_size)\n",
    "        total_loss += nd.sum(loss).asscalar()\n",
    "    print(\"Epoch %d, average loss: %f\" %(e, total_loss / num_examples))"
   ]
  },
  {
   "cell_type": "code",
   "execution_count": 27,
   "metadata": {
    "ExecuteTime": {
     "end_time": "2018-03-27T07:27:37.019261Z",
     "start_time": "2018-03-27T07:27:37.011806Z"
    }
   },
   "outputs": [
    {
     "data": {
      "text/plain": [
       "([2, -3.4], \n",
       " [[ 0.26723716 -0.16565508]]\n",
       " <NDArray 1x2 @cpu(0)>)"
      ]
     },
     "execution_count": 27,
     "metadata": {},
     "output_type": "execute_result"
    }
   ],
   "source": [
    "# show trained weigth and bias\n",
    "dense = net[0]\n",
    "true_w, dense.weight.data()"
   ]
  },
  {
   "cell_type": "code",
   "execution_count": 26,
   "metadata": {
    "ExecuteTime": {
     "end_time": "2018-03-27T07:27:33.516246Z",
     "start_time": "2018-03-27T07:27:33.509038Z"
    }
   },
   "outputs": [
    {
     "data": {
      "text/plain": [
       "(4.2, \n",
       " [3.367387]\n",
       " <NDArray 1 @cpu(0)>)"
      ]
     },
     "execution_count": 26,
     "metadata": {},
     "output_type": "execute_result"
    }
   ],
   "source": [
    "true_b, dense.bias.data()"
   ]
  },
  {
   "cell_type": "code",
   "execution_count": null,
   "metadata": {},
   "outputs": [],
   "source": []
  }
 ],
 "metadata": {
  "kernelspec": {
   "display_name": "Python 2",
   "language": "python",
   "name": "python2"
  },
  "language_info": {
   "codemirror_mode": {
    "name": "ipython",
    "version": 2
   },
   "file_extension": ".py",
   "mimetype": "text/x-python",
   "name": "python",
   "nbconvert_exporter": "python",
   "pygments_lexer": "ipython2",
   "version": "2.7.14"
  }
 },
 "nbformat": 4,
 "nbformat_minor": 2
}
